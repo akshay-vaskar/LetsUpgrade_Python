{
 "cells": [
  {
   "cell_type": "markdown",
   "metadata": {},
   "source": [
    "## Q.1) Create a bank account class that has two attributes : ownerName & Balance. And two methods : deposit & withdraw. \n",
    "\n",
    "### As an added requirement,withdrawals may not exceed the available balance.Instantiate your class,make several deposits and withdrawals,and test to make sure the account cant be overdrawn."
   ]
  },
  {
   "cell_type": "markdown",
   "metadata": {},
   "source": [
    "### Case 1 : Withdrawals not exceeding balance available"
   ]
  },
  {
   "cell_type": "code",
   "execution_count": 5,
   "metadata": {},
   "outputs": [
    {
     "name": "stdout",
     "output_type": "stream",
     "text": [
      "Welcome, Akshay your balance is  80000\n",
      "Akshay you have deposited  25000\n",
      "Akshay Now, the balance become  105000\n",
      "You withdrawed  90000\n",
      "Now, the remaining balance is  15000\n",
      "Akshay you have deposited  5000\n",
      "Akshay Now, the balance become  20000\n",
      "You withdrawed  15000\n",
      "Now, the remaining balance is  5000\n"
     ]
    }
   ],
   "source": [
    "class BankAccount():\n",
    "    def __init__(self, owner_name, balance):\n",
    "        self.name = owner_name\n",
    "        self.bal = balance\n",
    "        print('Welcome, ' + self.name + ' your balance is ', self.bal)\n",
    "\n",
    "    def deposit(self, addbalance):\n",
    "        self.abal = addbalance\n",
    "        self.bal += self.abal\n",
    "        print(self.name + ' you have deposited ', self.abal)\n",
    "        print(self.name + ' Now, the balance become ', self.bal)\n",
    "\n",
    "    def withdraw(self, money):\n",
    "        self.money = money\n",
    "        if self.money > self.bal:\n",
    "            print('You cannot withdraw money insufficient balance.')\n",
    "        else:\n",
    "            self.bal -= self.money\n",
    "            print('You withdrawed ', self.money)\n",
    "            print('Now, the remaining balance is ', self.bal)\n",
    "\n",
    "\n",
    "acc = BankAccount('Akshay', 80000)\n",
    "acc.deposit(25000)\n",
    "acc.withdraw(90000)\n",
    "acc.deposit(5000)\n",
    "acc.withdraw(15000)"
   ]
  },
  {
   "cell_type": "markdown",
   "metadata": {},
   "source": [
    "### Case 2 : Withdrawals exceeding balance available"
   ]
  },
  {
   "cell_type": "code",
   "execution_count": 10,
   "metadata": {},
   "outputs": [
    {
     "name": "stdout",
     "output_type": "stream",
     "text": [
      "Welcome, Akshay your balance is  50000\n",
      "Akshay you have deposited  5000\n",
      "Akshay Now, the balance become  55000\n",
      "You withdrawed  30000\n",
      "Now, the remaining balance is  25000\n",
      "Akshay you have deposited  5000\n",
      "Akshay Now, the balance become  30000\n",
      "You cannot withdraw money insufficient balance.\n"
     ]
    }
   ],
   "source": [
    "class BankAccount():\n",
    "    def __init__(self, owner_name, balance):\n",
    "        self.name = owner_name\n",
    "        self.bal = balance\n",
    "        print('Welcome, ' + self.name + ' your balance is ', self.bal)\n",
    "\n",
    "    def deposit(self, addbalance):\n",
    "        self.abal = addbalance\n",
    "        self.bal += self.abal\n",
    "        print(self.name + ' you have deposited ', self.abal)\n",
    "        print(self.name + ' Now, the balance become ', self.bal)\n",
    "\n",
    "    def withdraw(self, money):\n",
    "        self.money = money\n",
    "        if self.money > self.bal:\n",
    "            print('You cannot withdraw money insufficient balance.')\n",
    "        else:\n",
    "            self.bal -= self.money\n",
    "            print('You withdrawed ', self.money)\n",
    "            print('Now, the remaining balance is ', self.bal)\n",
    "\n",
    "\n",
    "acc = BankAccount('Akshay', 50000)\n",
    "acc.deposit(5000)\n",
    "acc.withdraw(30000)\n",
    "acc.deposit(5000)\n",
    "acc.withdraw(35000)"
   ]
  },
  {
   "cell_type": "markdown",
   "metadata": {},
   "source": [
    "# Q.2) For this challenge,create a cone class that has two attributes:R=Radius& h=Height And two methods: Volume = Π * r2 = (h/3)  Surface area : base : Π * r2 , side : Π * r * √(r2 + h2)"
   ]
  },
  {
   "cell_type": "code",
   "execution_count": 11,
   "metadata": {},
   "outputs": [],
   "source": [
    "import math\n",
    "class cone():\n",
    "    def __init__(self,radius,height):\n",
    "        self.radius = radius\n",
    "        self.height = height\n",
    "        \n",
    "    def volume(self):\n",
    "        self.vol = 3.14*self.radius*self.radius*(self.height/3)\n",
    "        print(\"volume of cone = \" ,self.vol)\n",
    "    def area(self):\n",
    "        self.base = 3.14*self.radius**2\n",
    "        self.surface = 3.14*self.radius*(self.radius + math.sqrt(self.radius**2 + self.height**2))\n",
    "        print(\"base area =  \" , self.base)\n",
    "        print(\"surface area =  \" , self.surface)"
   ]
  },
  {
   "cell_type": "code",
   "execution_count": 13,
   "metadata": {},
   "outputs": [],
   "source": [
    "x = cone(5,3)"
   ]
  },
  {
   "cell_type": "code",
   "execution_count": 14,
   "metadata": {},
   "outputs": [
    {
     "name": "stdout",
     "output_type": "stream",
     "text": [
      "volume of cone =  78.5\n"
     ]
    }
   ],
   "source": [
    "x.volume()"
   ]
  },
  {
   "cell_type": "code",
   "execution_count": 15,
   "metadata": {},
   "outputs": [
    {
     "name": "stdout",
     "output_type": "stream",
     "text": [
      "base area =   78.5\n",
      "surface area =   170.04594474907123\n"
     ]
    }
   ],
   "source": [
    "x.area()"
   ]
  },
  {
   "cell_type": "code",
   "execution_count": 16,
   "metadata": {},
   "outputs": [],
   "source": [
    "y = cone(3,6)"
   ]
  },
  {
   "cell_type": "code",
   "execution_count": 17,
   "metadata": {},
   "outputs": [
    {
     "name": "stdout",
     "output_type": "stream",
     "text": [
      "volume of cone =  56.519999999999996\n"
     ]
    }
   ],
   "source": [
    "y.volume()"
   ]
  },
  {
   "cell_type": "code",
   "execution_count": 18,
   "metadata": {},
   "outputs": [
    {
     "name": "stdout",
     "output_type": "stream",
     "text": [
      "base area =   28.26\n",
      "surface area =   91.45128104414405\n"
     ]
    }
   ],
   "source": [
    "y.area()"
   ]
  }
 ],
 "metadata": {
  "kernelspec": {
   "display_name": "Python 3",
   "language": "python",
   "name": "python3"
  },
  "language_info": {
   "codemirror_mode": {
    "name": "ipython",
    "version": 3
   },
   "file_extension": ".py",
   "mimetype": "text/x-python",
   "name": "python",
   "nbconvert_exporter": "python",
   "pygments_lexer": "ipython3",
   "version": "3.7.4"
  }
 },
 "nbformat": 4,
 "nbformat_minor": 2
}
