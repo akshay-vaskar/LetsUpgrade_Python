{
 "cells": [
  {
   "cell_type": "markdown",
   "metadata": {},
   "source": [
    "# Q.1) Write a decorator function for your taking input for you any kind of function you want to build - (To Find Prime Numbers)\n"
   ]
  },
  {
   "cell_type": "code",
   "execution_count": 8,
   "metadata": {},
   "outputs": [],
   "source": [
    "arr1 = []"
   ]
  },
  {
   "cell_type": "code",
   "execution_count": 9,
   "metadata": {},
   "outputs": [],
   "source": [
    "#Decorator\n",
    "\n",
    "def getInputs(calculate_arg_fun):\n",
    "    def function_wrap():\n",
    "        print(\"Enter the input range to find prime numbers\")\n",
    "        a = int(input(\"Enter your upper limit - \"))\n",
    "        b = int(input(\"Enter your lower limit - \"))\n",
    "        for i in range(a,b):\n",
    "            calculate_arg_fun(i)   \n",
    "    return function_wrap"
   ]
  },
  {
   "cell_type": "code",
   "execution_count": 10,
   "metadata": {},
   "outputs": [],
   "source": [
    "#Calling Decorator\n",
    "\n",
    "@getInputs\n",
    "def FindPrime(nums):\n",
    "    check = 0\n",
    "    for y in range(2,nums):\n",
    "        if nums%y == 0 :\n",
    "            check+=1\n",
    "    if check==0 and nums != 1:\n",
    "        arr1.append(nums)"
   ]
  },
  {
   "cell_type": "code",
   "execution_count": 11,
   "metadata": {},
   "outputs": [
    {
     "name": "stdout",
     "output_type": "stream",
     "text": [
      "Enter the input range to find prime numbers\n",
      "Enter your upper limit - 100\n",
      "Enter your lower limit - 1000\n"
     ]
    }
   ],
   "source": [
    "FindPrime()"
   ]
  },
  {
   "cell_type": "code",
   "execution_count": 12,
   "metadata": {},
   "outputs": [
    {
     "name": "stdout",
     "output_type": "stream",
     "text": [
      "[101, 103, 107, 109, 113, 127, 131, 137, 139, 149, 151, 157, 163, 167, 173, 179, 181, 191, 193, 197, 199, 211, 223, 227, 229, 233, 239, 241, 251, 257, 263, 269, 271, 277, 281, 283, 293, 307, 311, 313, 317, 331, 337, 347, 349, 353, 359, 367, 373, 379, 383, 389, 397, 401, 409, 419, 421, 431, 433, 439, 443, 449, 457, 461, 463, 467, 479, 487, 491, 499, 503, 509, 521, 523, 541, 547, 557, 563, 569, 571, 577, 587, 593, 599, 601, 607, 613, 617, 619, 631, 641, 643, 647, 653, 659, 661, 673, 677, 683, 691, 701, 709, 719, 727, 733, 739, 743, 751, 757, 761, 769, 773, 787, 797, 809, 811, 821, 823, 827, 829, 839, 853, 857, 859, 863, 877, 881, 883, 887, 907, 911, 919, 929, 937, 941, 947, 953, 967, 971, 977, 983, 991, 997]\n"
     ]
    }
   ],
   "source": [
    "print(arr1)"
   ]
  },
  {
   "cell_type": "markdown",
   "metadata": {},
   "source": [
    "# Q.2) Develop a Python program to open a file in read only mode and try writing something to it and handle the subsequent errors using Exception Handling."
   ]
  },
  {
   "cell_type": "code",
   "execution_count": 13,
   "metadata": {},
   "outputs": [
    {
     "name": "stdout",
     "output_type": "stream",
     "text": [
      "Writing question2.txt\n"
     ]
    }
   ],
   "source": [
    "%%writefile question2.txt\n",
    "\"This is the test file for the exception handling\""
   ]
  },
  {
   "cell_type": "code",
   "execution_count": 14,
   "metadata": {},
   "outputs": [
    {
     "data": {
      "text/plain": [
       "'\"This is the test file for the exception handling\"\\n'"
      ]
     },
     "execution_count": 14,
     "metadata": {},
     "output_type": "execute_result"
    }
   ],
   "source": [
    "x = open(\"question2.txt\",'r')\n",
    "x.read()"
   ]
  },
  {
   "cell_type": "code",
   "execution_count": 15,
   "metadata": {},
   "outputs": [
    {
     "name": "stdout",
     "output_type": "stream",
     "text": [
      "Unable to write to file due to the read only mode of file\n"
     ]
    }
   ],
   "source": [
    "try:\n",
    "    x.write(\"Assignment file\\n\")\n",
    "except:\n",
    "    print(\"Unable to write to file due to the read only mode of file\")\n",
    "finally:\n",
    "    x.close()"
   ]
  }
 ],
 "metadata": {
  "kernelspec": {
   "display_name": "Python 3",
   "language": "python",
   "name": "python3"
  },
  "language_info": {
   "codemirror_mode": {
    "name": "ipython",
    "version": 3
   },
   "file_extension": ".py",
   "mimetype": "text/x-python",
   "name": "python",
   "nbconvert_exporter": "python",
   "pygments_lexer": "ipython3",
   "version": "3.7.4"
  }
 },
 "nbformat": 4,
 "nbformat_minor": 2
}
